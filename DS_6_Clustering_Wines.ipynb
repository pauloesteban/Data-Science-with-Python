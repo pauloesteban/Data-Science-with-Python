{
  "nbformat": 4,
  "nbformat_minor": 0,
  "metadata": {
    "colab": {
      "name": "DS-6-Clustering Wines",
      "provenance": [],
      "authorship_tag": "ABX9TyMfcCLsgBNo5Z9Wut30ady9",
      "include_colab_link": true
    },
    "kernelspec": {
      "name": "python3",
      "display_name": "Python 3"
    }
  },
  "cells": [
    {
      "cell_type": "markdown",
      "metadata": {
        "id": "view-in-github",
        "colab_type": "text"
      },
      "source": [
        "<a href=\"https://colab.research.google.com/github/pauloesteban/Data-Science-with-Python/blob/master/DS_6_Clustering_Wines.ipynb\" target=\"_parent\"><img src=\"https://colab.research.google.com/assets/colab-badge.svg\" alt=\"Open In Colab\"/></a>"
      ]
    },
    {
      "cell_type": "code",
      "metadata": {
        "id": "oIcQepTMvPgC",
        "colab_type": "code",
        "colab": {}
      },
      "source": [
        "import numpy as np\n",
        "import pandas as pd\n",
        "from sklearn.datasets import load_wine\n",
        "import matplotlib.pyplot as plt\n",
        "from pandas.plotting import scatter_matrix"
      ],
      "execution_count": 8,
      "outputs": []
    },
    {
      "cell_type": "code",
      "metadata": {
        "id": "aAhA2S3c1AyM",
        "colab_type": "code",
        "colab": {}
      },
      "source": [
        "from sklearn.preprocessing import StandardScaler"
      ],
      "execution_count": 10,
      "outputs": []
    },
    {
      "cell_type": "code",
      "metadata": {
        "id": "YW87Pp0S2-ge",
        "colab_type": "code",
        "colab": {}
      },
      "source": [
        "from sklearn.cluster import KMeans"
      ],
      "execution_count": 16,
      "outputs": []
    },
    {
      "cell_type": "markdown",
      "metadata": {
        "id": "XgRnRZ76wE1R",
        "colab_type": "text"
      },
      "source": [
        "# Clustering"
      ]
    },
    {
      "cell_type": "markdown",
      "metadata": {
        "id": "mJOOrstMwJHN",
        "colab_type": "text"
      },
      "source": [
        "Unsupervised Learning"
      ]
    },
    {
      "cell_type": "markdown",
      "metadata": {
        "id": "OZY7sLBuwdfO",
        "colab_type": "text"
      },
      "source": [
        "## Different Types of Clustering Algorithms\n"
      ]
    },
    {
      "cell_type": "markdown",
      "metadata": {
        "id": "JqXXHXSIwhab",
        "colab_type": "text"
      },
      "source": [
        "*   Centroid based models\n",
        "*   Connectivity based models\n",
        "*   Distribution based models\n",
        "*   Density based models\n",
        "\n"
      ]
    },
    {
      "cell_type": "markdown",
      "metadata": {
        "id": "gc0lXApexHrf",
        "colab_type": "text"
      },
      "source": [
        "# Centroid-based clustering"
      ]
    },
    {
      "cell_type": "markdown",
      "metadata": {
        "id": "8FzkHiFWxNuG",
        "colab_type": "text"
      },
      "source": [
        "## K-means"
      ]
    },
    {
      "cell_type": "code",
      "metadata": {
        "id": "HCmYbB1RxLkd",
        "colab_type": "code",
        "colab": {}
      },
      "source": [
        "from sklearn.cluster import KMeans"
      ],
      "execution_count": null,
      "outputs": []
    },
    {
      "cell_type": "markdown",
      "metadata": {
        "id": "ngg6v52QxeuJ",
        "colab_type": "text"
      },
      "source": [
        "## Distance Metric"
      ]
    },
    {
      "cell_type": "markdown",
      "metadata": {
        "id": "o9pnuxMKxtRT",
        "colab_type": "text"
      },
      "source": [
        "\n",
        "\n",
        "*   **Euclidean** distance\n",
        "*   Manhattan distance\n",
        "*   Cosine distance\n",
        "\n"
      ]
    },
    {
      "cell_type": "code",
      "metadata": {
        "id": "581tHCgqxjgr",
        "colab_type": "code",
        "colab": {
          "base_uri": "https://localhost:8080/",
          "height": 34
        },
        "outputId": "29e40196-9070-47ba-bbe8-8116927b5e2a"
      },
      "source": [
        "x1 = np.array([1, -1])\n",
        "x2 = np.array([4, 3])\n",
        "print(np.sqrt(((x1-x2)**2).sum()))"
      ],
      "execution_count": 2,
      "outputs": [
        {
          "output_type": "stream",
          "text": [
            "5.0\n"
          ],
          "name": "stdout"
        }
      ]
    },
    {
      "cell_type": "markdown",
      "metadata": {
        "id": "vCgyKQ9QyRgy",
        "colab_type": "text"
      },
      "source": [
        "# Wine Data"
      ]
    },
    {
      "cell_type": "markdown",
      "metadata": {
        "id": "PT2OgQVIyUFS",
        "colab_type": "text"
      },
      "source": [
        "Make predictions and reduce dimensionality"
      ]
    },
    {
      "cell_type": "code",
      "metadata": {
        "id": "_2jNsOk6ym4z",
        "colab_type": "code",
        "colab": {
          "base_uri": "https://localhost:8080/",
          "height": 119
        },
        "outputId": "c5ad44a5-5aaa-42e5-80a8-6839e50ee032"
      },
      "source": [
        "data = load_wine()\n",
        "wine = pd.DataFrame(data.data, columns=data.feature_names)\n",
        "print(wine.shape)\n",
        "print(wine.columns)"
      ],
      "execution_count": 4,
      "outputs": [
        {
          "output_type": "stream",
          "text": [
            "(178, 13)\n",
            "Index(['alcohol', 'malic_acid', 'ash', 'alcalinity_of_ash', 'magnesium',\n",
            "       'total_phenols', 'flavanoids', 'nonflavanoid_phenols',\n",
            "       'proanthocyanins', 'color_intensity', 'hue',\n",
            "       'od280/od315_of_diluted_wines', 'proline'],\n",
            "      dtype='object')\n"
          ],
          "name": "stdout"
        }
      ]
    },
    {
      "cell_type": "code",
      "metadata": {
        "id": "hD8_5GhLy5KP",
        "colab_type": "code",
        "colab": {
          "base_uri": "https://localhost:8080/",
          "height": 170
        },
        "outputId": "f8936501-5435-45f9-dabb-4aaa1d1181f2"
      },
      "source": [
        "print(wine.iloc[:,:3].describe())"
      ],
      "execution_count": 5,
      "outputs": [
        {
          "output_type": "stream",
          "text": [
            "          alcohol  malic_acid         ash\n",
            "count  178.000000  178.000000  178.000000\n",
            "mean    13.000618    2.336348    2.366517\n",
            "std      0.811827    1.117146    0.274344\n",
            "min     11.030000    0.740000    1.360000\n",
            "25%     12.362500    1.602500    2.210000\n",
            "50%     13.050000    1.865000    2.360000\n",
            "75%     13.677500    3.082500    2.557500\n",
            "max     14.830000    5.800000    3.230000\n"
          ],
          "name": "stdout"
        }
      ]
    },
    {
      "cell_type": "code",
      "metadata": {
        "id": "JIfIv50KzL9F",
        "colab_type": "code",
        "colab": {
          "base_uri": "https://localhost:8080/",
          "height": 204
        },
        "outputId": "944a1e34-9be2-4168-a7d1-06b9374a0577"
      },
      "source": [
        "print(wine.iloc[:,:3].info())"
      ],
      "execution_count": 7,
      "outputs": [
        {
          "output_type": "stream",
          "text": [
            "<class 'pandas.core.frame.DataFrame'>\n",
            "RangeIndex: 178 entries, 0 to 177\n",
            "Data columns (total 3 columns):\n",
            " #   Column      Non-Null Count  Dtype  \n",
            "---  ------      --------------  -----  \n",
            " 0   alcohol     178 non-null    float64\n",
            " 1   malic_acid  178 non-null    float64\n",
            " 2   ash         178 non-null    float64\n",
            "dtypes: float64(3)\n",
            "memory usage: 4.3 KB\n",
            "None\n"
          ],
          "name": "stdout"
        }
      ]
    },
    {
      "cell_type": "markdown",
      "metadata": {
        "id": "SFVSD_3i0dKs",
        "colab_type": "text"
      },
      "source": [
        "## Plotting"
      ]
    },
    {
      "cell_type": "markdown",
      "metadata": {
        "id": "o77L28clzx0q",
        "colab_type": "text"
      },
      "source": [
        "Exploratory data analysis"
      ]
    },
    {
      "cell_type": "code",
      "metadata": {
        "id": "B-ZQic4PzhI4",
        "colab_type": "code",
        "colab": {
          "base_uri": "https://localhost:8080/",
          "height": 279
        },
        "outputId": "81b38126-0407-45ed-f549-af6a318d6b4d"
      },
      "source": [
        "scatter_matrix(wine.iloc[:,[0,5]])\n",
        "plt.show()"
      ],
      "execution_count": 9,
      "outputs": [
        {
          "output_type": "display_data",
          "data": {
            "image/png": "[encoded data removed]",
            "text/plain": [
              "<Figure size 432x288 with 4 Axes>"
            ]
          },
          "metadata": {
            "tags": [],
            "needs_background": "light"
          }
        }
      ]
    },
    {
      "cell_type": "markdown",
      "metadata": {
        "id": "9mioPJi60l7u",
        "colab_type": "text"
      },
      "source": [
        "## Pre-processing: Standardization"
      ]
    },
    {
      "cell_type": "code",
      "metadata": {
        "id": "9FzsiX2T0nuH",
        "colab_type": "code",
        "colab": {}
      },
      "source": [
        "X = wine[['alcohol', 'total_phenols']]"
      ],
      "execution_count": 11,
      "outputs": []
    },
    {
      "cell_type": "code",
      "metadata": {
        "id": "AVZfPLwb1Gm0",
        "colab_type": "code",
        "colab": {
          "base_uri": "https://localhost:8080/",
          "height": 34
        },
        "outputId": "fabb6a72-de72-49b5-939e-6598e831979f"
      },
      "source": [
        "scale = StandardScaler()\n",
        "scale.fit(X)"
      ],
      "execution_count": 12,
      "outputs": [
        {
          "output_type": "execute_result",
          "data": {
            "text/plain": [
              "StandardScaler(copy=True, with_mean=True, with_std=True)"
            ]
          },
          "metadata": {
            "tags": []
          },
          "execution_count": 12
        }
      ]
    },
    {
      "cell_type": "code",
      "metadata": {
        "id": "jkXM9-Wv1Jv8",
        "colab_type": "code",
        "colab": {
          "base_uri": "https://localhost:8080/",
          "height": 51
        },
        "outputId": "f950f6f3-ebe2-4364-b9dc-40e3c5f06ea1"
      },
      "source": [
        "print(scale.mean_)\n",
        "print(scale.scale_)"
      ],
      "execution_count": 13,
      "outputs": [
        {
          "output_type": "stream",
          "text": [
            "[13.00061798  2.29511236]\n",
            "[0.80954291 0.62409056]\n"
          ],
          "name": "stdout"
        }
      ]
    },
    {
      "cell_type": "code",
      "metadata": {
        "id": "QBBwwk_v1VGi",
        "colab_type": "code",
        "colab": {}
      },
      "source": [
        "X_scaled = scale.transform(X)"
      ],
      "execution_count": 14,
      "outputs": []
    },
    {
      "cell_type": "code",
      "metadata": {
        "id": "UOOyhR5c2GCA",
        "colab_type": "code",
        "colab": {
          "base_uri": "https://localhost:8080/",
          "height": 51
        },
        "outputId": "7fe3059b-1f23-4125-d03e-17567467720c"
      },
      "source": [
        "print(X_scaled.mean(axis=0))\n",
        "print(X_scaled.std(axis=0))"
      ],
      "execution_count": 15,
      "outputs": [
        {
          "output_type": "stream",
          "text": [
            "[ 7.84141790e-15 -1.95536471e-16]\n",
            "[1. 1.]\n"
          ],
          "name": "stdout"
        }
      ]
    },
    {
      "cell_type": "markdown",
      "metadata": {
        "id": "ftfQN67Y2qkh",
        "colab_type": "text"
      },
      "source": [
        "# Modelling"
      ]
    },
    {
      "cell_type": "markdown",
      "metadata": {
        "id": "kNQZKC6N2uoj",
        "colab_type": "text"
      },
      "source": [
        "## K-means modelling"
      ]
    },
    {
      "cell_type": "markdown",
      "metadata": {
        "id": "VN25FbVt3M3_",
        "colab_type": "text"
      },
      "source": [
        "Instantiate"
      ]
    },
    {
      "cell_type": "code",
      "metadata": {
        "id": "AzqBfSoD2sRY",
        "colab_type": "code",
        "colab": {}
      },
      "source": [
        "kmeans = KMeans(n_clusters=3)"
      ],
      "execution_count": 17,
      "outputs": []
    },
    {
      "cell_type": "markdown",
      "metadata": {
        "id": "d6dGunli3Ofu",
        "colab_type": "text"
      },
      "source": [
        "Fit"
      ]
    },
    {
      "cell_type": "code",
      "metadata": {
        "id": "Lz97RvQw3JTL",
        "colab_type": "code",
        "colab": {
          "base_uri": "https://localhost:8080/",
          "height": 68
        },
        "outputId": "c3f8b803-7117-47c2-c282-4b1497bae4a4"
      },
      "source": [
        "kmeans.fit(X_scaled)"
      ],
      "execution_count": 18,
      "outputs": [
        {
          "output_type": "execute_result",
          "data": {
            "text/plain": [
              "KMeans(algorithm='auto', copy_x=True, init='k-means++', max_iter=300,\n",
              "       n_clusters=3, n_init=10, n_jobs=None, precompute_distances='auto',\n",
              "       random_state=None, tol=0.0001, verbose=0)"
            ]
          },
          "metadata": {
            "tags": []
          },
          "execution_count": 18
        }
      ]
    },
    {
      "cell_type": "markdown",
      "metadata": {
        "id": "4ylgsgl33PQg",
        "colab_type": "text"
      },
      "source": [
        "Prediction"
      ]
    },
    {
      "cell_type": "code",
      "metadata": {
        "id": "I_ylADxa3LAF",
        "colab_type": "code",
        "colab": {
          "base_uri": "https://localhost:8080/",
          "height": 102
        },
        "outputId": "dc5b6651-e2e7-42d5-ca26-3cfb5a22ecb0"
      },
      "source": [
        "y_pred = kmeans.predict(X_scaled)\n",
        "print(y_pred)"
      ],
      "execution_count": 19,
      "outputs": [
        {
          "output_type": "stream",
          "text": [
            "[2 2 2 2 2 2 2 2 2 2 2 2 2 2 2 2 2 2 2 2 2 1 2 1 2 2 2 2 2 2 2 2 2 2 2 2 2\n",
            " 2 2 2 2 2 2 2 2 2 2 2 2 2 2 2 2 2 2 2 2 2 2 1 1 1 0 1 1 1 2 1 2 1 0 2 0 2\n",
            " 1 1 0 1 1 1 1 1 1 0 1 1 1 1 1 1 1 0 0 1 1 1 1 1 1 1 1 0 1 1 1 0 0 0 1 1 1\n",
            " 1 1 1 1 1 1 1 0 1 1 1 1 2 1 1 1 1 1 1 0 0 0 0 1 0 0 0 0 1 0 0 0 0 0 0 0 0\n",
            " 0 0 0 0 0 0 0 0 0 1 2 2 1 0 0 0 0 0 0 0 0 0 0 0 0 0 0 0 0 2]\n"
          ],
          "name": "stdout"
        }
      ]
    },
    {
      "cell_type": "markdown",
      "metadata": {
        "id": "xo0lHJ5j3gQK",
        "colab_type": "text"
      },
      "source": [
        "Centroids"
      ]
    },
    {
      "cell_type": "code",
      "metadata": {
        "id": "0qh3DWHK3dJK",
        "colab_type": "code",
        "colab": {
          "base_uri": "https://localhost:8080/",
          "height": 68
        },
        "outputId": "a4fdf9f0-620e-46b7-9c23-72746a292e9c"
      },
      "source": [
        "kmeans.cluster_centers_"
      ],
      "execution_count": 20,
      "outputs": [
        {
          "output_type": "execute_result",
          "data": {
            "text/plain": [
              "array([[ 0.07498401, -1.14070754],\n",
              "       [-1.06309124,  0.06418028],\n",
              "       [ 0.92017418,  0.87087204]])"
            ]
          },
          "metadata": {
            "tags": []
          },
          "execution_count": 20
        }
      ]
    },
    {
      "cell_type": "markdown",
      "metadata": {
        "id": "epzodviL3mGm",
        "colab_type": "text"
      },
      "source": [
        "Visualize"
      ]
    },
    {
      "cell_type": "code",
      "metadata": {
        "id": "snoL0EhA3m_6",
        "colab_type": "code",
        "colab": {
          "base_uri": "https://localhost:8080/",
          "height": 295
        },
        "outputId": "8c9bb86a-1ab8-4208-cc17-e4fcf47cd2ff"
      },
      "source": [
        "# plot the scaled data\n",
        "plt.scatter(X_scaled[:,0], \n",
        "            X_scaled[:,1],\n",
        "            c= y_pred)\n",
        "# identify the centroids\n",
        "plt.scatter(kmeans.cluster_centers_[:, 0],\n",
        "            kmeans.cluster_centers_[:, 1], \n",
        "            marker=\"*\",\n",
        "            s = 250, \n",
        "            c = [0,1,2], \n",
        "            edgecolors='k')\n",
        "plt.xlabel('alcohol'); plt.ylabel('total phenols')\n",
        "plt.title('k-means (k=3)')\n",
        "plt.show()"
      ],
      "execution_count": 21,
      "outputs": [
        {
          "output_type": "display_data",
          "data": {
            "image/png": "[encoded data removed]",
            "text/plain": [
              "<Figure size 432x288 with 1 Axes>"
            ]
          },
          "metadata": {
            "tags": [],
            "needs_background": "light"
          }
        }
      ]
    },
    {
      "cell_type": "markdown",
      "metadata": {
        "id": "MgxXIWxV373i",
        "colab_type": "text"
      },
      "source": [
        "New data"
      ]
    },
    {
      "cell_type": "code",
      "metadata": {
        "id": "XIer1lpD37Je",
        "colab_type": "code",
        "colab": {}
      },
      "source": [
        "X_new = np.array([[13, 2.5]])"
      ],
      "execution_count": 22,
      "outputs": []
    },
    {
      "cell_type": "code",
      "metadata": {
        "id": "RQ6AKbRl4AG8",
        "colab_type": "code",
        "colab": {
          "base_uri": "https://localhost:8080/",
          "height": 34
        },
        "outputId": "740e222b-2230-4804-b227-fc4c2ae0f667"
      },
      "source": [
        "X_new_scaled = scale.transform(X_new)\n",
        "print(X_new_scaled)"
      ],
      "execution_count": 23,
      "outputs": [
        {
          "output_type": "stream",
          "text": [
            "[[-0.00076337  0.32829793]]\n"
          ],
          "name": "stdout"
        }
      ]
    },
    {
      "cell_type": "code",
      "metadata": {
        "id": "6JYFffJa4DSY",
        "colab_type": "code",
        "colab": {
          "base_uri": "https://localhost:8080/",
          "height": 34
        },
        "outputId": "034b1ac7-e6fb-492a-c446-8b3dcd31c7a4"
      },
      "source": [
        "kmeans.predict(X_new_scaled)"
      ],
      "execution_count": 24,
      "outputs": [
        {
          "output_type": "execute_result",
          "data": {
            "text/plain": [
              "array([2], dtype=int32)"
            ]
          },
          "metadata": {
            "tags": []
          },
          "execution_count": 24
        }
      ]
    },
    {
      "cell_type": "markdown",
      "metadata": {
        "id": "WYBP4eXH4cad",
        "colab_type": "text"
      },
      "source": [
        "## Optimal k: The elbow method"
      ]
    },
    {
      "cell_type": "markdown",
      "metadata": {
        "id": "hAGpjW9A4ujO",
        "colab_type": "text"
      },
      "source": [
        "### Inertia"
      ]
    },
    {
      "cell_type": "markdown",
      "metadata": {
        "id": "0euQBG074wun",
        "colab_type": "text"
      },
      "source": [
        "Sum of squares of the distance from data point to its nearest centroid"
      ]
    },
    {
      "cell_type": "code",
      "metadata": {
        "id": "MvfWwosr4eSp",
        "colab_type": "code",
        "colab": {
          "base_uri": "https://localhost:8080/",
          "height": 34
        },
        "outputId": "5a45fce4-2e4a-4362-aff5-1a6b6c542e85"
      },
      "source": [
        "kmeans = KMeans(n_clusters=2)\n",
        "kmeans.fit(X_scaled)\n",
        "print(kmeans.inertia_)"
      ],
      "execution_count": 25,
      "outputs": [
        {
          "output_type": "stream",
          "text": [
            "185.25081541190127\n"
          ],
          "name": "stdout"
        }
      ]
    },
    {
      "cell_type": "code",
      "metadata": {
        "id": "vzS3OPEj45iQ",
        "colab_type": "code",
        "colab": {
          "base_uri": "https://localhost:8080/",
          "height": 34
        },
        "outputId": "7f059e5e-987f-4ee0-b081-1b9287c74832"
      },
      "source": [
        "kmeans = KMeans(n_clusters=3)\n",
        "kmeans.fit(X_scaled)\n",
        "kmeans.inertia_"
      ],
      "execution_count": 26,
      "outputs": [
        {
          "output_type": "execute_result",
          "data": {
            "text/plain": [
              "114.37290289645736"
            ]
          },
          "metadata": {
            "tags": []
          },
          "execution_count": 26
        }
      ]
    },
    {
      "cell_type": "code",
      "metadata": {
        "id": "OgGa8fwP4-VS",
        "colab_type": "code",
        "colab": {}
      },
      "source": [
        "inertia = []\n",
        "for i in np.arange(1, 11):\n",
        "    km = KMeans(\n",
        "        n_clusters=i\n",
        "    )\n",
        "    km.fit(X_scaled)\n",
        "    inertia.append(km.inertia_)"
      ],
      "execution_count": 27,
      "outputs": []
    },
    {
      "cell_type": "code",
      "metadata": {
        "id": "4Kf1uYdJ5BPt",
        "colab_type": "code",
        "colab": {
          "base_uri": "https://localhost:8080/",
          "height": 279
        },
        "outputId": "fe6cf3d4-167e-4855-efb0-9667031e1d6d"
      },
      "source": [
        "plt.plot(np.arange(1, 11), inertia, marker='o')\n",
        "plt.xlabel('Number of clusters')\n",
        "plt.ylabel('Inertia')\n",
        "plt.show()"
      ],
      "execution_count": 28,
      "outputs": [
        {
          "output_type": "display_data",
          "data": {
            "image/png": "[encoded data removed]",
            "text/plain": [
              "<Figure size 432x288 with 1 Axes>"
            ]
          },
          "metadata": {
            "tags": [],
            "needs_background": "light"
          }
        }
      ]
    },
    {
      "cell_type": "markdown",
      "metadata": {
        "id": "SY7TchMv5U-M",
        "colab_type": "text"
      },
      "source": [
        "Optimal k when inertia does not decrease rapidly."
      ]
    },
    {
      "cell_type": "code",
      "metadata": {
        "id": "UeFZ6R_m6gQH",
        "colab_type": "code",
        "colab": {
          "base_uri": "https://localhost:8080/",
          "height": 54
        },
        "outputId": "cf3f4bc2-7468-4558-f35c-4105f8ba3974"
      },
      "source": [
        "inertia = []\n",
        "differ=[]\n",
        "pre_inertia=0\n",
        "for i in np.arange(1, 11):\n",
        "    km = KMeans(\n",
        "        n_clusters=i\n",
        "    )\n",
        "    km.fit(X_scaled)\n",
        "    inertia.append(km.inertia_)\n",
        "    differ.append(km.inertia_-pre_inertia)\n",
        "    pre_inertia=km.inertia_\n",
        "print(differ)"
      ],
      "execution_count": 31,
      "outputs": [
        {
          "output_type": "stream",
          "text": [
            "[356.0, -170.74918458809873, -70.90407502879341, -25.743219641405858, -20.061814685620647, -12.546029171169849, -7.203771696614027, -4.313348524633284, -4.013338160492083, -3.2806986136300935]\n"
          ],
          "name": "stdout"
        }
      ]
    },
    {
      "cell_type": "code",
      "metadata": {
        "id": "PL8Aa5Yd5jwS",
        "colab_type": "code",
        "colab": {
          "base_uri": "https://localhost:8080/",
          "height": 279
        },
        "outputId": "3f49c182-8759-4f4e-90f4-017e336b9b01"
      },
      "source": [
        "plt.plot(np.arange(2, 11), -np.diff(inertia), marker='o')\n",
        "plt.xlabel('Number of clusters')\n",
        "plt.ylabel('Inertia')\n",
        "plt.show()"
      ],
      "execution_count": 30,
      "outputs": [
        {
          "output_type": "display_data",
          "data": {
            "image/png": "[encoded data removed]",
            "text/plain": [
              "<Figure size 432x288 with 1 Axes>"
            ]
          },
          "metadata": {
            "tags": [],
            "needs_background": "light"
          }
        }
      ]
    },
    {
      "cell_type": "markdown",
      "metadata": {
        "id": "6POemxib7I2V",
        "colab_type": "text"
      },
      "source": [
        "## Modeling With More Features"
      ]
    },
    {
      "cell_type": "code",
      "metadata": {
        "id": "Ow35k9Xw7OQn",
        "colab_type": "code",
        "colab": {}
      },
      "source": [
        "X = wine"
      ],
      "execution_count": 32,
      "outputs": []
    },
    {
      "cell_type": "code",
      "metadata": {
        "id": "RBskoL5a7c8H",
        "colab_type": "code",
        "colab": {}
      },
      "source": [
        "scale = StandardScaler() \n",
        "scale.fit(X)\n",
        "X_scaled = scale.transform(X)"
      ],
      "execution_count": 33,
      "outputs": []
    },
    {
      "cell_type": "code",
      "metadata": {
        "id": "jeMEj1UG7hXp",
        "colab_type": "code",
        "colab": {
          "base_uri": "https://localhost:8080/",
          "height": 295
        },
        "outputId": "1c987fec-75f7-4281-afd1-a305acff8d41"
      },
      "source": [
        "inertia = [] \n",
        "for i in np.arange(1, 11):\n",
        "    km = KMeans(\n",
        "        n_clusters=i \n",
        "        )\n",
        "    km.fit(X_scaled) \n",
        "    inertia.append(km.inertia_)\n",
        "plt.plot(np.arange(1, 11), inertia, marker='o')\n",
        "plt.xlabel('Number of clusters')\n",
        "plt.ylabel('Inertia')\n",
        "plt.title(\"all feature\")\n",
        "plt.show()"
      ],
      "execution_count": 34,
      "outputs": [
        {
          "output_type": "display_data",
          "data": {
            "image/png": "[encoded data removed]",
            "text/plain": [
              "<Figure size 432x288 with 1 Axes>"
            ]
          },
          "metadata": {
            "tags": [],
            "needs_background": "light"
          }
        }
      ]
    },
    {
      "cell_type": "code",
      "metadata": {
        "id": "zU4fynov7nAE",
        "colab_type": "code",
        "colab": {
          "base_uri": "https://localhost:8080/",
          "height": 102
        },
        "outputId": "778b0577-d5a5-4eb5-8ec0-98dee94ca093"
      },
      "source": [
        "k_opt = 3\n",
        "kmeans = KMeans(k_opt)\n",
        "kmeans.fit(X_scaled)\n",
        "y_pred = kmeans.predict(X_scaled)\n",
        "print(y_pred)"
      ],
      "execution_count": 35,
      "outputs": [
        {
          "output_type": "stream",
          "text": [
            "[2 2 2 2 2 2 2 2 2 2 2 2 2 2 2 2 2 2 2 2 2 2 2 2 2 2 2 2 2 2 2 2 2 2 2 2 2\n",
            " 2 2 2 2 2 2 2 2 2 2 2 2 2 2 2 2 2 2 2 2 2 2 1 1 0 1 1 1 1 1 1 1 1 1 1 1 2\n",
            " 1 1 1 1 1 1 1 1 1 0 1 1 1 1 1 1 1 1 1 1 1 2 1 1 1 1 1 1 1 1 1 1 1 1 1 1 1\n",
            " 1 1 1 1 1 1 1 0 1 1 2 1 1 1 1 1 1 1 1 0 0 0 0 0 0 0 0 0 0 0 0 0 0 0 0 0 0\n",
            " 0 0 0 0 0 0 0 0 0 0 0 0 0 0 0 0 0 0 0 0 0 0 0 0 0 0 0 0 0 0]\n"
          ],
          "name": "stdout"
        }
      ]
    }
  ]
}